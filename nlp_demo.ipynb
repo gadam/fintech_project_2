{
 "cells": [
  {
   "attachments": {},
   "cell_type": "markdown",
   "metadata": {},
   "source": [
    "# Short NLP demo using `Transformers`"
   ]
  },
  {
   "cell_type": "code",
   "execution_count": null,
   "metadata": {},
   "outputs": [],
   "source": [
    "import pandas as pd\n",
    "import numpy as np\n",
    "from transformers import pipeline"
   ]
  },
  {
   "cell_type": "code",
   "execution_count": null,
   "metadata": {},
   "outputs": [],
   "source": [
    "# Headlines from `https://www.abc.net.au/news/business/` as at 9:20PM 11/1/2023\n",
    "headlines = [\n",
    "    \"ASX gains despite higher inflation, job-vacancies dip, and World Bank warns of looming recession — as it happened\",\n",
    "    \"Sun Cable collapses after dispute between billionaire investors\",\n",
    "    \"Australia's inflation rate rises again, prompting forecasts of further interest rate hikes\",\n",
    "    \"Global economy could tip into recession in 2023, World Bank warns\",\n",
    "    \"'Not great news for tenants' as Australian rents surge at their fastest pace on record\",\n",
    "    \"In this remote region, hundreds of hectares of land have been cleared — some without a permit\",\n",
    "    \"Carbon emission ceiling on Australia's biggest polluters to be lowered 4.9 per cent each year to 2030\",\n",
    "    \"This is one of the industries offering free study as part of an initiative to address labour shortages\"\n",
    "]"
   ]
  },
  {
   "cell_type": "code",
   "execution_count": null,
   "metadata": {},
   "outputs": [],
   "source": [
    "# Establish a `Transformers` pipeline for NLP based on the `distilroberta`-base on the financial_phrasebank dataset\n",
    "news_pipeline = pipeline(model='mrm8488/distilroberta-finetuned-financial-news-sentiment-analysis')\n"
   ]
  },
  {
   "cell_type": "code",
   "execution_count": null,
   "metadata": {},
   "outputs": [],
   "source": [
    "# Code the headline as a positive/neutral/negative sentiment\n",
    "sentiments = {}\n",
    "for headline in headlines:\n",
    "    sentiments[headline] = news_pipeline([headline])[0]['label']\n"
   ]
  },
  {
   "cell_type": "code",
   "execution_count": null,
   "metadata": {},
   "outputs": [],
   "source": [
    "# Dump the results\n",
    "for headline in sentiments:\n",
    "    print(f\"{headline}: {sentiments[headline]}\\n\")"
   ]
  }
 ],
 "metadata": {
  "kernelspec": {
   "display_name": "base",
   "language": "python",
   "name": "python3"
  },
  "language_info": {
   "codemirror_mode": {
    "name": "ipython",
    "version": 3
   },
   "file_extension": ".py",
   "mimetype": "text/x-python",
   "name": "python",
   "nbconvert_exporter": "python",
   "pygments_lexer": "ipython3",
   "version": "3.7.13"
  },
  "orig_nbformat": 4,
  "vscode": {
   "interpreter": {
    "hash": "d43b95e2adbec41d16169c1cb633d031d21ac34870be228cdec6b90b53a91aeb"
   }
  }
 },
 "nbformat": 4,
 "nbformat_minor": 2
}
